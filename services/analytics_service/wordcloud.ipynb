{
 "cells": [
  {
   "cell_type": "code",
   "execution_count": 7,
   "metadata": {},
   "outputs": [
    {
     "name": "stdout",
     "output_type": "stream",
     "text": [
      "Requirement already satisfied: matplotlib in /home/sde/anaconda3/lib/python3.7/site-packages (3.1.3)\n",
      "Requirement already satisfied: wordcloud in /home/sde/anaconda3/lib/python3.7/site-packages (1.7.0)\n",
      "Requirement already satisfied: pyparsing!=2.0.4,!=2.1.2,!=2.1.6,>=2.0.1 in /home/sde/anaconda3/lib/python3.7/site-packages (from matplotlib) (2.4.6)\n",
      "Requirement already satisfied: kiwisolver>=1.0.1 in /home/sde/anaconda3/lib/python3.7/site-packages (from matplotlib) (1.1.0)\n",
      "Requirement already satisfied: cycler>=0.10 in /home/sde/anaconda3/lib/python3.7/site-packages (from matplotlib) (0.10.0)\n",
      "Requirement already satisfied: numpy>=1.11 in /home/sde/anaconda3/lib/python3.7/site-packages (from matplotlib) (1.18.1)\n",
      "Requirement already satisfied: python-dateutil>=2.1 in /home/sde/anaconda3/lib/python3.7/site-packages (from matplotlib) (2.8.1)\n",
      "Requirement already satisfied: pillow in /home/sde/anaconda3/lib/python3.7/site-packages (from wordcloud) (7.0.0)\n",
      "Requirement already satisfied: setuptools in /home/sde/anaconda3/lib/python3.7/site-packages (from kiwisolver>=1.0.1->matplotlib) (45.2.0.post20200210)\n",
      "Requirement already satisfied: six in /home/sde/anaconda3/lib/python3.7/site-packages (from cycler>=0.10->matplotlib) (1.14.0)\n",
      "Note: you may need to restart the kernel to use updated packages.\n"
     ]
    }
   ],
   "source": [
    "pip install matplotlib wordcloud"
   ]
  },
  {
   "cell_type": "code",
   "execution_count": 4,
   "metadata": {},
   "outputs": [],
   "source": [
    "import pandas as pd\n",
    "import wordcloud"
   ]
  },
  {
   "cell_type": "code",
   "execution_count": 5,
   "metadata": {},
   "outputs": [],
   "source": [
    "data_proc = pd.read_csv('dataset.csv')"
   ]
  },
  {
   "cell_type": "code",
   "execution_count": 13,
   "metadata": {},
   "outputs": [
    {
     "data": {
      "text/plain": [
       "Index(['Unnamed: 0', 'word', 'work_place', 'role', 'date', 'word_clean',\n",
       "       'freqs_common', 'freqs_common_scaled', 'work_place_id',\n",
       "       'freq_work_places', 'freq_work_places_scaled', 'freqs_date',\n",
       "       'freqs_date_scaled'],\n",
       "      dtype='object')"
      ]
     },
     "execution_count": 13,
     "metadata": {},
     "output_type": "execute_result"
    }
   ],
   "source": [
    "data_proc.columns"
   ]
  },
  {
   "cell_type": "code",
   "execution_count": 42,
   "metadata": {},
   "outputs": [],
   "source": [
    "texts = []\n",
    "\n",
    "for i in data_proc['work_place'].unique():\n",
    "    for j in data_proc['role'].unique():\n",
    "        for k in data_proc['date'].unique():\n",
    "            text = ''\n",
    "            for id_, word, work_place, role, date, word_clean, *_ in data_proc.iloc:\n",
    "                if work_place == i and role == j and date == k:\n",
    "                    text += ' '+word_clean\n",
    "            texts.append([i, j, k, text])"
   ]
  },
  {
   "cell_type": "code",
   "execution_count": 43,
   "metadata": {},
   "outputs": [],
   "source": [
    "data_text = pd.DataFrame(texts, columns = ['work_place', 'role', 'date', 'text'])"
   ]
  },
  {
   "cell_type": "code",
   "execution_count": 49,
   "metadata": {},
   "outputs": [],
   "source": [
    "data_text = data_text.iloc[1:]"
   ]
  },
  {
   "cell_type": "code",
   "execution_count": 52,
   "metadata": {},
   "outputs": [],
   "source": [
    "for work_place in data_text['work_place'].unique():\n",
    "    df_temp = data_text[data_text['work_place'] == work_place]\n",
    "    for date in df_temp['date'].unique():\n",
    "        df_temp_role = df_temp[df_temp['date'] == date]\n",
    "        \n",
    "        for role in df_temp_role['role'].unique():\n",
    "            df_to_wc = df_temp_role[df_temp_role['role'] == role]\n",
    "            text = ' '.join(df_to_wc['text'])\n",
    "            word_cloud = wordcloud.WordCloud(random_state=0,\n",
    "                                             max_words=20,\n",
    "                                             width=300*5,\n",
    "                                             height=110*5,\n",
    "                                             background_color=\"rgba(255, 255, 255, 0)\",\n",
    "                                             mode=\"RGBA\",\n",
    "                                            ).generate(text)\n",
    "            #word_cloud.recolor(grey_color_func)\n",
    "            image = word_cloud.to_image()\n",
    "            image.save('word_clouds\\\\{0}_{1}_{2}_{3}.png'.format(work_place, date, role, i))\n",
    "            n_start = part_len*i"
   ]
  }
 ],
 "metadata": {
  "kernelspec": {
   "display_name": "Python 3",
   "language": "python",
   "name": "python3"
  },
  "language_info": {
   "codemirror_mode": {
    "name": "ipython",
    "version": 3
   },
   "file_extension": ".py",
   "mimetype": "text/x-python",
   "name": "python",
   "nbconvert_exporter": "python",
   "pygments_lexer": "ipython3",
   "version": "3.7.6"
  }
 },
 "nbformat": 4,
 "nbformat_minor": 4
}
